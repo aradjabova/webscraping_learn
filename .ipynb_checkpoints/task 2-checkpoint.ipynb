{
 "cells": [
  {
   "cell_type": "code",
   "execution_count": 1,
   "metadata": {},
   "outputs": [],
   "source": [
    "import requests as req\n",
    "from bs4 import BeautifulSoup"
   ]
  },
  {
   "cell_type": "code",
   "execution_count": 2,
   "metadata": {},
   "outputs": [],
   "source": [
    "URL = 'https://pt.wikipedia.org/wiki/Ariquemes'"
   ]
  },
  {
   "cell_type": "code",
   "execution_count": 3,
   "metadata": {},
   "outputs": [],
   "source": [
    "r = req.get(URL)"
   ]
  },
  {
   "cell_type": "code",
   "execution_count": 4,
   "metadata": {},
   "outputs": [],
   "source": [
    "soup = BeautifulSoup(r.content)"
   ]
  },
  {
   "cell_type": "code",
   "execution_count": 5,
   "metadata": {},
   "outputs": [],
   "source": [
    "title = soup.h1"
   ]
  },
  {
   "cell_type": "code",
   "execution_count": 6,
   "metadata": {},
   "outputs": [
    {
     "name": "stdout",
     "output_type": "stream",
     "text": [
      "<h1 class=\"firstHeading\" id=\"firstHeading\" lang=\"pt\">Ariquemes</h1>\n"
     ]
    }
   ],
   "source": [
    "print(title)"
   ]
  },
  {
   "cell_type": "code",
   "execution_count": 7,
   "metadata": {},
   "outputs": [
    {
     "name": "stdout",
     "output_type": "stream",
     "text": [
      "<img alt=\"Ariquemes num dia de Outono\" data-file-height=\"1938\" data-file-width=\"2584\" decoding=\"async\" height=\"225\" src=\"//upload.wikimedia.org/wikipedia/commons/thumb/e/e1/Outono_Ariquemes_-_panoramio.jpg/300px-Outono_Ariquemes_-_panoramio.jpg\" srcset=\"//upload.wikimedia.org/wikipedia/commons/thumb/e/e1/Outono_Ariquemes_-_panoramio.jpg/450px-Outono_Ariquemes_-_panoramio.jpg 1.5x, //upload.wikimedia.org/wikipedia/commons/thumb/e/e1/Outono_Ariquemes_-_panoramio.jpg/600px-Outono_Ariquemes_-_panoramio.jpg 2x\" width=\"300\"/>\n"
     ]
    }
   ],
   "source": [
    "print(soup.img)"
   ]
  },
  {
   "cell_type": "code",
   "execution_count": 8,
   "metadata": {},
   "outputs": [],
   "source": [
    "tables = soup.find_all('table')"
   ]
  },
  {
   "cell_type": "code",
   "execution_count": 9,
   "metadata": {},
   "outputs": [
    {
     "name": "stdout",
     "output_type": "stream",
     "text": [
      "14\n"
     ]
    }
   ],
   "source": [
    "print(len(tables))"
   ]
  },
  {
   "cell_type": "code",
   "execution_count": 10,
   "metadata": {},
   "outputs": [
    {
     "data": {
      "text/plain": [
       "<table style=\"width:100%; background:none;\">\n",
       "<tbody><tr><td style=\"vertical-align:middle;text-align:center;\"> <a class=\"image\" href=\"/wiki/Ficheiro:Ariquemes_bandeira.jpg\" title=\"Bandeira de Ariquemes\"><img alt=\"Bandeira de Ariquemes\" class=\"thumbborder\" data-file-height=\"484\" data-file-width=\"684\" decoding=\"async\" height=\"88\" src=\"//upload.wikimedia.org/wikipedia/commons/thumb/c/c0/Ariquemes_bandeira.jpg/125px-Ariquemes_bandeira.jpg\" srcset=\"//upload.wikimedia.org/wikipedia/commons/thumb/c/c0/Ariquemes_bandeira.jpg/188px-Ariquemes_bandeira.jpg 1.5x, //upload.wikimedia.org/wikipedia/commons/thumb/c/c0/Ariquemes_bandeira.jpg/250px-Ariquemes_bandeira.jpg 2x\" width=\"125\"/></a><br/><small><b>Bandeira</b></small></td>\n",
       "<td style=\"text-align:center;\"><a class=\"image\" href=\"/wiki/Ficheiro:Seal_of_Ariquemes.jpg\" title=\"Brasão de armas de Ariquemes\"><img alt=\"Brasão de armas de Ariquemes\" data-file-height=\"836\" data-file-width=\"716\" decoding=\"async\" height=\"99\" src=\"//upload.wikimedia.org/wikipedia/commons/thumb/1/1f/Seal_of_Ariquemes.jpg/85px-Seal_of_Ariquemes.jpg\" srcset=\"//upload.wikimedia.org/wikipedia/commons/thumb/1/1f/Seal_of_Ariquemes.jpg/128px-Seal_of_Ariquemes.jpg 1.5x, //upload.wikimedia.org/wikipedia/commons/thumb/1/1f/Seal_of_Ariquemes.jpg/170px-Seal_of_Ariquemes.jpg 2x\" width=\"85\"/></a><br/><small><b><a href=\"/wiki/Bras%C3%A3o\" title=\"Brasão\">Brasão de armas</a></b></small></td>\n",
       "</tr></tbody></table>"
      ]
     },
     "execution_count": 10,
     "metadata": {},
     "output_type": "execute_result"
    }
   ],
   "source": [
    "tables[2]"
   ]
  },
  {
   "cell_type": "code",
   "execution_count": 11,
   "metadata": {},
   "outputs": [
    {
     "data": {
      "text/plain": [
       "'width:100%; background:none;'"
      ]
     },
     "execution_count": 11,
     "metadata": {},
     "output_type": "execute_result"
    }
   ],
   "source": [
    "tables[2]['style']"
   ]
  },
  {
   "cell_type": "code",
   "execution_count": 13,
   "metadata": {},
   "outputs": [
    {
     "name": "stdout",
     "output_type": "stream",
     "text": [
      "752\n"
     ]
    }
   ],
   "source": [
    "lists = soup.find_all('li')\n",
    "print(len(lists))"
   ]
  },
  {
   "cell_type": "code",
   "execution_count": 14,
   "metadata": {},
   "outputs": [],
   "source": [
    "childs = list(lists[3].children)"
   ]
  },
  {
   "cell_type": "code",
   "execution_count": 15,
   "metadata": {},
   "outputs": [
    {
     "name": "stdout",
     "output_type": "stream",
     "text": [
      "[<a href=\"#Geografia\"><span class=\"tocnumber\">2</span> <span class=\"toctext\">Geografia</span></a>, '\\n', <ul>\n",
      "<li class=\"toclevel-2 tocsection-5\"><a href=\"#Hidrografia\"><span class=\"tocnumber\">2.1</span> <span class=\"toctext\">Hidrografia</span></a></li>\n",
      "<li class=\"toclevel-2 tocsection-6\"><a href=\"#Clima\"><span class=\"tocnumber\">2.2</span> <span class=\"toctext\">Clima</span></a></li>\n",
      "</ul>, '\\n']\n"
     ]
    }
   ],
   "source": [
    "print(childs)"
   ]
  },
  {
   "cell_type": "code",
   "execution_count": null,
   "metadata": {},
   "outputs": [],
   "source": []
  }
 ],
 "metadata": {
  "kernelspec": {
   "display_name": "Python 3",
   "language": "python",
   "name": "python3"
  },
  "language_info": {
   "codemirror_mode": {
    "name": "ipython",
    "version": 3
   },
   "file_extension": ".py",
   "mimetype": "text/x-python",
   "name": "python",
   "nbconvert_exporter": "python",
   "pygments_lexer": "ipython3",
   "version": "3.6.12"
  },
  "toc": {
   "base_numbering": 1,
   "nav_menu": {},
   "number_sections": true,
   "sideBar": true,
   "skip_h1_title": false,
   "title_cell": "Table of Contents",
   "title_sidebar": "Contents",
   "toc_cell": false,
   "toc_position": {},
   "toc_section_display": true,
   "toc_window_display": false
  }
 },
 "nbformat": 4,
 "nbformat_minor": 4
}
